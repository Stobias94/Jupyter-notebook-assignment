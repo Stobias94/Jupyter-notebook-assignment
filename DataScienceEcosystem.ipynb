{
 "cells": [
  {
   "cell_type": "markdown",
   "id": "88adf811-17f6-45bf-80f3-8ba99f177940",
   "metadata": {},
   "source": [
    "# Data Science Tools and Ecosystem"
   ]
  },
  {
   "cell_type": "markdown",
   "id": "e151dac3-af8e-4238-b046-7c996a0e1df8",
   "metadata": {},
   "source": [
    "## In this notebook, Data Science Tools and Ecosystem are summarized."
   ]
  },
  {
   "cell_type": "markdown",
   "id": "ae3e59b0-5bd8-4acb-8c77-e1121036ccde",
   "metadata": {},
   "source": [
    "## Some of the popular languages that Data Scientists use are:\n",
    "1. Python\n",
    "1. R\n",
    "1. SQL"
   ]
  },
  {
   "cell_type": "markdown",
   "id": "101e309c-a5c2-48a8-9f33-8b97be55942b",
   "metadata": {},
   "source": [
    "***"
   ]
  },
  {
   "cell_type": "markdown",
   "id": "4150240d-ecaa-4c83-ba07-2347a1857c51",
   "metadata": {},
   "source": [
    "## Some of the commonly used libraries used by Data Scientists include:\n",
    "1. Numpy\n",
    "1. Pandas\n",
    "1. Seaborn\n",
    "1. SciPy\n"
   ]
  },
  {
   "cell_type": "markdown",
   "id": "ee14e20a-e81b-4a16-adb6-8653650e3ba7",
   "metadata": {},
   "source": [
    "***"
   ]
  },
  {
   "cell_type": "markdown",
   "id": "ca770cea-4263-482f-9957-654956655fc9",
   "metadata": {},
   "source": [
    "| Data Science Tools       |\n",
    "|--------------------------|\n",
    "| Jupyter Notebooks         |\n",
    "| R Studio                  |\n",
    "| Apache Spark              |\n",
    "\n"
   ]
  },
  {
   "cell_type": "markdown",
   "id": "a1d1075d-e5f3-4327-9a1d-15dacae0284d",
   "metadata": {},
   "source": [
    "### Below are a few examples of evaluating arithmetic expressions in Python:\n",
    "1. Addition\n",
    "1. Subtraction\n",
    "1. Division\n",
    "1. Multiplication"
   ]
  },
  {
   "cell_type": "code",
   "execution_count": 7,
   "id": "e9192a40-6f0f-4dcc-a034-04964ff5c63d",
   "metadata": {},
   "outputs": [
    {
     "data": {
      "text/plain": [
       "17"
      ]
     },
     "execution_count": 7,
     "metadata": {},
     "output_type": "execute_result"
    }
   ],
   "source": [
    "# his a simple arithmetic expression to mutiply then add integers.\n",
    "Result =(3*4)+5\n",
    "Result"
   ]
  },
  {
   "cell_type": "code",
   "execution_count": 8,
   "id": "c34e86f4-79f7-4678-be4f-c3ec6033640a",
   "metadata": {},
   "outputs": [
    {
     "data": {
      "text/plain": [
       "3.3333333333333335"
      ]
     },
     "execution_count": 8,
     "metadata": {},
     "output_type": "execute_result"
    }
   ],
   "source": [
    "# This will convert 200 minutes to hours by dividing by 60\n",
    "minutes = 200\n",
    "hours = minutes / 60\n",
    "hours\n"
   ]
  },
  {
   "cell_type": "markdown",
   "id": "d6d07c80-5142-439e-97ec-0a6361ac5c8d",
   "metadata": {},
   "source": [
    "**Objectives:**\n",
    "\n",
    "- List popular languages for Data Science.\n",
    "- Understand the use of Jupyter Notebooks for Data Science.\n",
    "- Learn basic arithmetic operations in Python.\n",
    "- Convert units (e.g., minutes to hours).\n",
    "- Create tables using Markdown syntax.\n"
   ]
  },
  {
   "cell_type": "markdown",
   "id": "90b7b337-d8e5-42d3-a587-42a2348c29da",
   "metadata": {},
   "source": [
    "## Author\n",
    "\n",
    "Saara Ndjimba\n"
   ]
  },
  {
   "cell_type": "code",
   "execution_count": null,
   "id": "6d33a05e-466c-40dc-82ba-04f3a9ad62e8",
   "metadata": {},
   "outputs": [],
   "source": []
  }
 ],
 "metadata": {
  "kernelspec": {
   "display_name": "Python 3 (ipykernel)",
   "language": "python",
   "name": "python3"
  },
  "language_info": {
   "codemirror_mode": {
    "name": "ipython",
    "version": 3
   },
   "file_extension": ".py",
   "mimetype": "text/x-python",
   "name": "python",
   "nbconvert_exporter": "python",
   "pygments_lexer": "ipython3",
   "version": "3.12.7"
  }
 },
 "nbformat": 4,
 "nbformat_minor": 5
}
